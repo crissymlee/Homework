{
 "cells": [
  {
   "cell_type": "code",
   "execution_count": 1,
   "metadata": {},
   "outputs": [
    {
     "name": "stdout",
     "output_type": "stream",
     "text": [
      "Collecting citipy\n",
      "  Downloading citipy-0.0.5.tar.gz (557 kB)\n",
      "Collecting kdtree>=0.12\n",
      "  Downloading kdtree-0.16-py2.py3-none-any.whl (7.7 kB)\n",
      "Building wheels for collected packages: citipy\n",
      "  Building wheel for citipy (setup.py): started\n",
      "  Building wheel for citipy (setup.py): finished with status 'done'\n",
      "  Created wheel for citipy: filename=citipy-0.0.5-py3-none-any.whl size=559707 sha256=3618e8a85b171e54a1d789cf174ae56325ad164ff6ee333a1b7a3b97b858d9d3\n",
      "  Stored in directory: c:\\users\\christina.lee\\appdata\\local\\pip\\cache\\wheels\\72\\ae\\63\\5d03cf6dfe5c0e9328fb73f8b30da1948a06b9cceaf2c68d2d\n",
      "Successfully built citipy\n",
      "Installing collected packages: kdtree, citipy\n",
      "Successfully installed citipy-0.0.5 kdtree-0.16\n",
      "Note: you may need to restart the kernel to use updated packages.\n"
     ]
    }
   ],
   "source": [
    "pip install citipy"
   ]
  },
  {
   "cell_type": "code",
   "execution_count": null,
   "metadata": {},
   "outputs": [],
   "source": []
  }
 ],
 "metadata": {
  "kernelspec": {
   "display_name": "Python 3",
   "language": "python",
   "name": "python3"
  },
  "language_info": {
   "codemirror_mode": {
    "name": "ipython",
    "version": 3
   },
   "file_extension": ".py",
   "mimetype": "text/x-python",
   "name": "python",
   "nbconvert_exporter": "python",
   "pygments_lexer": "ipython3",
   "version": "3.7.6"
  }
 },
 "nbformat": 4,
 "nbformat_minor": 4
}
