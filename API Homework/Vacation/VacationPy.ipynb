{
 "cells": [
  {
   "cell_type": "markdown",
   "metadata": {},
   "source": [
    "# VacationPy\n",
    "----\n",
    "\n",
    "#### Note\n",
    "* Instructions have been included for each segment. You do not have to follow them exactly, but they are included to help you think through the steps."
   ]
  },
  {
   "cell_type": "code",
   "execution_count": 3,
   "metadata": {},
   "outputs": [],
   "source": [
    "# Dependencies and Setup\n",
    "import matplotlib.pyplot as plt\n",
    "import pandas as pd\n",
    "import numpy as np\n",
    "import requests\n",
    "import gmaps\n",
    "import os\n",
    "\n",
    "# Import API key\n",
    "from api_keys import g_key"
   ]
  },
  {
   "cell_type": "code",
   "execution_count": 4,
   "metadata": {},
   "outputs": [],
   "source": [
    "gmaps.configure(api_key=g_key)"
   ]
  },
  {
   "cell_type": "markdown",
   "metadata": {},
   "source": [
    "### Store Part I results into DataFrame\n",
    "* Load the csv exported in Part I to a DataFrame"
   ]
  },
  {
   "cell_type": "code",
   "execution_count": 6,
   "metadata": {},
   "outputs": [],
   "source": [
    "# bring in weather csv\n",
    "weatherfile = \"cleaned_weather_data.csv\"\n",
    "we = pd.read_csv(weatherfile)\n",
    "weather = pd.DataFrame(we).drop(columns=['Unnamed: 0'])"
   ]
  },
  {
   "cell_type": "code",
   "execution_count": 8,
   "metadata": {},
   "outputs": [
    {
     "name": "stderr",
     "output_type": "stream",
     "text": [
      "<ipython-input-8-fc56deb8b38e>:5: SettingWithCopyWarning: \n",
      "A value is trying to be set on a copy of a slice from a DataFrame.\n",
      "Try using .loc[row_indexer,col_indexer] = value instead\n",
      "\n",
      "See the caveats in the documentation: https://pandas.pydata.org/pandas-docs/stable/user_guide/indexing.html#returning-a-view-versus-a-copy\n",
      "  hum_best3['lat_lngs'] = hum_best3['Latitude'].astype(str) + \", \" + hum_best3['Longitude'].astype(str)\n"
     ]
    }
   ],
   "source": [
    "# filtering vacation params\n",
    "hum_best = weather[weather['Temperature (Farenheit)'] <= 82]\n",
    "hum_best2 = hum_best[hum_best['Temperature (Farenheit)'] >= 65]\n",
    "hum_best3 = hum_best2[hum_best2['Humidity %'] <= 30]\n",
    "hum_best3['lat_lngs'] = hum_best3['Latitude'].astype(str) + \", \" + hum_best3['Longitude'].astype(str)"
   ]
  },
  {
   "cell_type": "markdown",
   "metadata": {},
   "source": [
    "### Humidity Heatmap\n",
    "* Configure gmaps.\n",
    "* Use the Lat and Lng as locations and Humidity as the weight.\n",
    "* Add Heatmap layer to map."
   ]
  },
  {
   "cell_type": "code",
   "execution_count": null,
   "metadata": {},
   "outputs": [],
   "source": []
  },
  {
   "cell_type": "code",
   "execution_count": null,
   "metadata": {},
   "outputs": [],
   "source": []
  },
  {
   "cell_type": "markdown",
   "metadata": {},
   "source": [
    "### Create new DataFrame fitting weather criteria\n",
    "* Narrow down the cities to fit weather conditions.\n",
    "* Drop any rows will null values."
   ]
  },
  {
   "cell_type": "code",
   "execution_count": null,
   "metadata": {},
   "outputs": [],
   "source": []
  },
  {
   "cell_type": "markdown",
   "metadata": {},
   "source": [
    "### Hotel Map\n",
    "* Store into variable named `hotel_df`.\n",
    "* Add a \"Hotel Name\" column to the DataFrame.\n",
    "* Set parameters to search for hotels with 5000 meters.\n",
    "* Hit the Google Places API for each city's coordinates.\n",
    "* Store the first Hotel result into the DataFrame.\n",
    "* Plot markers on top of the heatmap."
   ]
  },
  {
   "cell_type": "code",
   "execution_count": null,
   "metadata": {},
   "outputs": [],
   "source": []
  },
  {
   "cell_type": "code",
   "execution_count": 10,
   "metadata": {},
   "outputs": [
    {
     "name": "stderr",
     "output_type": "stream",
     "text": [
      "<ipython-input-10-c5dbd1f6f08e>:2: SettingWithCopyWarning: \n",
      "A value is trying to be set on a copy of a slice from a DataFrame.\n",
      "Try using .loc[row_indexer,col_indexer] = value instead\n",
      "\n",
      "See the caveats in the documentation: https://pandas.pydata.org/pandas-docs/stable/user_guide/indexing.html#returning-a-view-versus-a-copy\n",
      "  hum_best3['Hotel Name'] = \"\"\n"
     ]
    }
   ],
   "source": [
    "# set up a new column for table\n",
    "hum_best3['Hotel Name'] = \"\""
   ]
  },
  {
   "cell_type": "code",
   "execution_count": 19,
   "metadata": {},
   "outputs": [
    {
     "name": "stdout",
     "output_type": "stream",
     "text": [
      "Searching for The Closest Hotel to Bilma...\n",
      "No hotels near Bilma\n",
      "Searching for The Closest Hotel to Kasane...\n",
      "The closest hotel is Chobe Water Villas\n",
      "Searching for The Closest Hotel to Ambon City...\n"
     ]
    },
    {
     "name": "stderr",
     "output_type": "stream",
     "text": [
      "C:\\Users\\Christina\\anaconda3\\lib\\site-packages\\pandas\\core\\indexing.py:966: SettingWithCopyWarning: \n",
      "A value is trying to be set on a copy of a slice from a DataFrame.\n",
      "Try using .loc[row_indexer,col_indexer] = value instead\n",
      "\n",
      "See the caveats in the documentation: https://pandas.pydata.org/pandas-docs/stable/user_guide/indexing.html#returning-a-view-versus-a-copy\n",
      "  self.obj[item] = s\n"
     ]
    },
    {
     "name": "stdout",
     "output_type": "stream",
     "text": [
      "The closest hotel is Swiss-Belhotel Ambon\n",
      "Searching for The Closest Hotel to Kidal...\n",
      "No hotels near Kidal\n",
      "Searching for The Closest Hotel to Taoudenni...\n",
      "No hotels near Taoudenni\n",
      "Searching for The Closest Hotel to Umm Hājar...\n",
      "No hotels near Umm Hājar\n",
      "Searching for The Closest Hotel to Abū Zabad...\n",
      "No hotels near Abū Zabad\n",
      "Searching for The Closest Hotel to Sokolo...\n",
      "No hotels near Sokolo\n",
      "Searching for The Closest Hotel to Bikaner...\n",
      "The closest hotel is The Laxmi Niwas Palace\n",
      "Searching for The Closest Hotel to Miraflores...\n",
      "The closest hotel is Hotel Mansión\n",
      "Searching for The Closest Hotel to Kolokani...\n",
      "The closest hotel is Maimouna sylla\n",
      "Searching for The Closest Hotel to Tombouctou...\n",
      "No hotels near Tombouctou\n"
     ]
    }
   ],
   "source": [
    "# find the closest hotel near each city\n",
    "search = 'Hotel'\n",
    "radius = 5000\n",
    "t_type = 'lodging'\n",
    "\n",
    "for index, row in hum_best3.iterrows():\n",
    "    \n",
    "    params= {\n",
    "    \"keyword\":search,\n",
    "    \"radius\":radius,\n",
    "    \"type\":t_type,\n",
    "    \"key\":g_key\n",
    "    }\n",
    "    \n",
    "    base_url = 'https://maps.googleapis.com/maps/api/place/nearbysearch/json'\n",
    "\n",
    "    params['location'] = row[9]\n",
    "    \n",
    "    print(f'Searching for The Closest Hotel to {row[0]}...')\n",
    "    response = requests.get(base_url,params=params).json()\n",
    "    \n",
    "    results = response['results']\n",
    "    try:\n",
    "        print(f'The closest hotel is {results[0][\"name\"]}')\n",
    "        \n",
    "        hum_best3.loc[index, 'Hotel Name'] = results[0][\"name\"]\n",
    "\n",
    "    except:\n",
    "        print(f'No hotels near {row[0]}')"
   ]
  },
  {
   "cell_type": "code",
   "execution_count": 20,
   "metadata": {},
   "outputs": [
    {
     "data": {
      "text/html": [
       "<div>\n",
       "<style scoped>\n",
       "    .dataframe tbody tr th:only-of-type {\n",
       "        vertical-align: middle;\n",
       "    }\n",
       "\n",
       "    .dataframe tbody tr th {\n",
       "        vertical-align: top;\n",
       "    }\n",
       "\n",
       "    .dataframe thead th {\n",
       "        text-align: right;\n",
       "    }\n",
       "</style>\n",
       "<table border=\"1\" class=\"dataframe\">\n",
       "  <thead>\n",
       "    <tr style=\"text-align: right;\">\n",
       "      <th></th>\n",
       "      <th>City Name</th>\n",
       "      <th>Latitude</th>\n",
       "      <th>Longitude</th>\n",
       "      <th>Temperature (Farenheit)</th>\n",
       "      <th>Humidity %</th>\n",
       "      <th>Cloudiness %</th>\n",
       "      <th>Wind Speed (MPH)</th>\n",
       "      <th>Country</th>\n",
       "      <th>Date</th>\n",
       "      <th>lat_lngs</th>\n",
       "      <th>Hotel Name</th>\n",
       "    </tr>\n",
       "  </thead>\n",
       "  <tbody>\n",
       "    <tr>\n",
       "      <th>127</th>\n",
       "      <td>Kasane</td>\n",
       "      <td>-17.82</td>\n",
       "      <td>25.15</td>\n",
       "      <td>80.92</td>\n",
       "      <td>25</td>\n",
       "      <td>35</td>\n",
       "      <td>3.76</td>\n",
       "      <td>BW</td>\n",
       "      <td>1604960571</td>\n",
       "      <td>-17.82, 25.15</td>\n",
       "      <td>Chobe Water Villas</td>\n",
       "    </tr>\n",
       "    <tr>\n",
       "      <th>140</th>\n",
       "      <td>Ambon City</td>\n",
       "      <td>-3.70</td>\n",
       "      <td>128.18</td>\n",
       "      <td>78.01</td>\n",
       "      <td>15</td>\n",
       "      <td>100</td>\n",
       "      <td>4.92</td>\n",
       "      <td>ID</td>\n",
       "      <td>1604960166</td>\n",
       "      <td>-3.7, 128.18</td>\n",
       "      <td>Swiss-Belhotel Ambon</td>\n",
       "    </tr>\n",
       "    <tr>\n",
       "      <th>398</th>\n",
       "      <td>Bikaner</td>\n",
       "      <td>28.02</td>\n",
       "      <td>73.30</td>\n",
       "      <td>69.42</td>\n",
       "      <td>22</td>\n",
       "      <td>0</td>\n",
       "      <td>9.51</td>\n",
       "      <td>IN</td>\n",
       "      <td>1604960412</td>\n",
       "      <td>28.02, 73.3</td>\n",
       "      <td>The Laxmi Niwas Palace</td>\n",
       "    </tr>\n",
       "    <tr>\n",
       "      <th>438</th>\n",
       "      <td>Miraflores</td>\n",
       "      <td>19.22</td>\n",
       "      <td>-98.81</td>\n",
       "      <td>75.22</td>\n",
       "      <td>27</td>\n",
       "      <td>40</td>\n",
       "      <td>4.70</td>\n",
       "      <td>MX</td>\n",
       "      <td>1604960636</td>\n",
       "      <td>19.22, -98.81</td>\n",
       "      <td>Hotel Mansión</td>\n",
       "    </tr>\n",
       "    <tr>\n",
       "      <th>486</th>\n",
       "      <td>Kolokani</td>\n",
       "      <td>13.57</td>\n",
       "      <td>-8.03</td>\n",
       "      <td>77.54</td>\n",
       "      <td>18</td>\n",
       "      <td>0</td>\n",
       "      <td>6.87</td>\n",
       "      <td>ML</td>\n",
       "      <td>1604960648</td>\n",
       "      <td>13.57, -8.03</td>\n",
       "      <td>Maimouna sylla</td>\n",
       "    </tr>\n",
       "  </tbody>\n",
       "</table>\n",
       "</div>"
      ],
      "text/plain": [
       "      City Name  Latitude  Longitude  Temperature (Farenheit)  Humidity %  \\\n",
       "127      Kasane    -17.82      25.15                    80.92          25   \n",
       "140  Ambon City     -3.70     128.18                    78.01          15   \n",
       "398     Bikaner     28.02      73.30                    69.42          22   \n",
       "438  Miraflores     19.22     -98.81                    75.22          27   \n",
       "486    Kolokani     13.57      -8.03                    77.54          18   \n",
       "\n",
       "     Cloudiness %  Wind Speed (MPH) Country        Date       lat_lngs  \\\n",
       "127            35              3.76      BW  1604960571  -17.82, 25.15   \n",
       "140           100              4.92      ID  1604960166   -3.7, 128.18   \n",
       "398             0              9.51      IN  1604960412    28.02, 73.3   \n",
       "438            40              4.70      MX  1604960636  19.22, -98.81   \n",
       "486             0              6.87      ML  1604960648   13.57, -8.03   \n",
       "\n",
       "                 Hotel Name  \n",
       "127      Chobe Water Villas  \n",
       "140    Swiss-Belhotel Ambon  \n",
       "398  The Laxmi Niwas Palace  \n",
       "438           Hotel Mansión  \n",
       "486          Maimouna sylla  "
      ]
     },
     "execution_count": 20,
     "metadata": {},
     "output_type": "execute_result"
    }
   ],
   "source": [
    "final_data = hum_best3[hum_best3['Hotel Name'] != \"\"]\n",
    "final_data"
   ]
  },
  {
   "cell_type": "code",
   "execution_count": 21,
   "metadata": {},
   "outputs": [],
   "source": [
    "humidity = final_data['Humidity %'].astype(float)\n",
    "max_hum = humidity.max()\n",
    "locations = final_data[['Latitude','Longitude']]"
   ]
  },
  {
   "cell_type": "code",
   "execution_count": 23,
   "metadata": {},
   "outputs": [],
   "source": [
    "# Plot the hotels on top of the humidity heatmap with each pin containing the Hotel Name, City, and Country.\n",
    "\n",
    "humidity = final_data['Humidity %'].astype(float)\n",
    "max_hum = humidity.max()\n",
    "locations = final_data[['Latitude','Longitude']]"
   ]
  },
  {
   "cell_type": "code",
   "execution_count": 24,
   "metadata": {},
   "outputs": [
    {
     "data": {
      "application/vnd.jupyter.widget-view+json": {
       "model_id": "3c0701c1aa7549afbebf0f793948fe5f",
       "version_major": 2,
       "version_minor": 0
      },
      "text/plain": [
       "Figure(layout=FigureLayout(height='420px'))"
      ]
     },
     "metadata": {},
     "output_type": "display_data"
    }
   ],
   "source": [
    "# Add heat map to globe\n",
    "\n",
    "fig = gmaps.figure()\n",
    "heat_layer = gmaps.heatmap_layer(locations, weights=humidity,dissipating=False, max_intensity=max_hum)\n",
    "fig.add_layer(heat_layer)\n",
    "fig"
   ]
  },
  {
   "cell_type": "code",
   "execution_count": 28,
   "metadata": {},
   "outputs": [
    {
     "ename": "KeyError",
     "evalue": "'City'",
     "output_type": "error",
     "traceback": [
      "\u001b[1;31m---------------------------------------------------------------------------\u001b[0m",
      "\u001b[1;31mKeyError\u001b[0m                                  Traceback (most recent call last)",
      "\u001b[1;32m<ipython-input-28-c179f4172efc>\u001b[0m in \u001b[0;36m<module>\u001b[1;34m\u001b[0m\n\u001b[0;32m     11\u001b[0m \u001b[1;31m# Store the DataFrame Row\u001b[0m\u001b[1;33m\u001b[0m\u001b[1;33m\u001b[0m\u001b[1;33m\u001b[0m\u001b[0m\n\u001b[0;32m     12\u001b[0m \u001b[1;31m# NOTE: be sure to update with your DataFrame name\u001b[0m\u001b[1;33m\u001b[0m\u001b[1;33m\u001b[0m\u001b[1;33m\u001b[0m\u001b[0m\n\u001b[1;32m---> 13\u001b[1;33m \u001b[0mfinal_data\u001b[0m \u001b[1;33m=\u001b[0m \u001b[1;33m[\u001b[0m\u001b[0minfo_box_template\u001b[0m\u001b[1;33m.\u001b[0m\u001b[0mformat\u001b[0m\u001b[1;33m(\u001b[0m\u001b[1;33m**\u001b[0m\u001b[0mrow\u001b[0m\u001b[1;33m)\u001b[0m \u001b[1;32mfor\u001b[0m \u001b[0mindex\u001b[0m\u001b[1;33m,\u001b[0m \u001b[0mrow\u001b[0m \u001b[1;32min\u001b[0m \u001b[0mfinal_data\u001b[0m\u001b[1;33m.\u001b[0m\u001b[0miterrows\u001b[0m\u001b[1;33m(\u001b[0m\u001b[1;33m)\u001b[0m\u001b[1;33m]\u001b[0m\u001b[1;33m\u001b[0m\u001b[1;33m\u001b[0m\u001b[0m\n\u001b[0m\u001b[0;32m     14\u001b[0m \u001b[0mlocations\u001b[0m \u001b[1;33m=\u001b[0m \u001b[0mfinal_data\u001b[0m\u001b[1;33m[\u001b[0m\u001b[1;33m[\u001b[0m\u001b[1;34m\"Lat\"\u001b[0m\u001b[1;33m,\u001b[0m \u001b[1;34m\"Lng\"\u001b[0m\u001b[1;33m]\u001b[0m\u001b[1;33m]\u001b[0m\u001b[1;33m\u001b[0m\u001b[1;33m\u001b[0m\u001b[0m\n",
      "\u001b[1;32m<ipython-input-28-c179f4172efc>\u001b[0m in \u001b[0;36m<listcomp>\u001b[1;34m(.0)\u001b[0m\n\u001b[0;32m     11\u001b[0m \u001b[1;31m# Store the DataFrame Row\u001b[0m\u001b[1;33m\u001b[0m\u001b[1;33m\u001b[0m\u001b[1;33m\u001b[0m\u001b[0m\n\u001b[0;32m     12\u001b[0m \u001b[1;31m# NOTE: be sure to update with your DataFrame name\u001b[0m\u001b[1;33m\u001b[0m\u001b[1;33m\u001b[0m\u001b[1;33m\u001b[0m\u001b[0m\n\u001b[1;32m---> 13\u001b[1;33m \u001b[0mfinal_data\u001b[0m \u001b[1;33m=\u001b[0m \u001b[1;33m[\u001b[0m\u001b[0minfo_box_template\u001b[0m\u001b[1;33m.\u001b[0m\u001b[0mformat\u001b[0m\u001b[1;33m(\u001b[0m\u001b[1;33m**\u001b[0m\u001b[0mrow\u001b[0m\u001b[1;33m)\u001b[0m \u001b[1;32mfor\u001b[0m \u001b[0mindex\u001b[0m\u001b[1;33m,\u001b[0m \u001b[0mrow\u001b[0m \u001b[1;32min\u001b[0m \u001b[0mfinal_data\u001b[0m\u001b[1;33m.\u001b[0m\u001b[0miterrows\u001b[0m\u001b[1;33m(\u001b[0m\u001b[1;33m)\u001b[0m\u001b[1;33m]\u001b[0m\u001b[1;33m\u001b[0m\u001b[1;33m\u001b[0m\u001b[0m\n\u001b[0m\u001b[0;32m     14\u001b[0m \u001b[0mlocations\u001b[0m \u001b[1;33m=\u001b[0m \u001b[0mfinal_data\u001b[0m\u001b[1;33m[\u001b[0m\u001b[1;33m[\u001b[0m\u001b[1;34m\"Lat\"\u001b[0m\u001b[1;33m,\u001b[0m \u001b[1;34m\"Lng\"\u001b[0m\u001b[1;33m]\u001b[0m\u001b[1;33m]\u001b[0m\u001b[1;33m\u001b[0m\u001b[1;33m\u001b[0m\u001b[0m\n",
      "\u001b[1;31mKeyError\u001b[0m: 'City'"
     ]
    }
   ],
   "source": [
    "# NOTE: Do not change any of the code in this cell\n",
    "\n",
    "# Using the template add the hotel marks to the heatmap\n",
    "info_box_template = \"\"\"\n",
    "<dl>\n",
    "<dt>Name</dt><dd>{Hotel Name}</dd>\n",
    "<dt>City</dt><dd>{City}</dd>\n",
    "<dt>Country</dt><dd>{Country}</dd>\n",
    "</dl>\n",
    "\"\"\"\n",
    "# Store the DataFrame Row\n",
    "# NOTE: be sure to update with your DataFrame name\n",
    "final_data = [info_box_template.format(**row) for index, row in final_data.iterrows()]\n",
    "locations = final_data[[\"Lat\", \"Lng\"]]"
   ]
  },
  {
   "cell_type": "code",
   "execution_count": null,
   "metadata": {},
   "outputs": [],
   "source": [
    "# Add marker layer ontop of heat map\n",
    "\n",
    "\n",
    "# Display figure\n"
   ]
  },
  {
   "cell_type": "code",
   "execution_count": null,
   "metadata": {},
   "outputs": [],
   "source": []
  }
 ],
 "metadata": {
  "kernelspec": {
   "display_name": "Python 3",
   "language": "python",
   "name": "python3"
  },
  "language_info": {
   "codemirror_mode": {
    "name": "ipython",
    "version": 3
   },
   "file_extension": ".py",
   "mimetype": "text/x-python",
   "name": "python",
   "nbconvert_exporter": "python",
   "pygments_lexer": "ipython3",
   "version": "3.8.3"
  },
  "latex_envs": {
   "LaTeX_envs_menu_present": true,
   "autoclose": false,
   "autocomplete": true,
   "bibliofile": "biblio.bib",
   "cite_by": "apalike",
   "current_citInitial": 1,
   "eqLabelWithNumbers": true,
   "eqNumInitial": 1,
   "hotkeys": {
    "equation": "Ctrl-E",
    "itemize": "Ctrl-I"
   },
   "labels_anchors": false,
   "latex_user_defs": false,
   "report_style_numbering": false,
   "user_envs_cfg": false
  }
 },
 "nbformat": 4,
 "nbformat_minor": 2
}
